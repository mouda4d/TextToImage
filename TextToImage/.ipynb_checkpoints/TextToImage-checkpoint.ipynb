{
 "cells": [
  {
   "cell_type": "code",
   "execution_count": 70,
   "id": "41bdb519-36ee-449d-a8c3-bfe8623b2ddb",
   "metadata": {},
   "outputs": [],
   "source": [
    "import shutil\n",
    "import string\n",
    "import os"
   ]
  },
  {
   "cell_type": "code",
   "execution_count": 67,
   "id": "1a42aaaa-b616-4c97-877c-16be72994adf",
   "metadata": {},
   "outputs": [],
   "source": [
    "dict = {}\n",
    "i = 1"
   ]
  },
  {
   "cell_type": "code",
   "execution_count": 68,
   "id": "c439c88e-116f-4eec-970b-41e3e385045e",
   "metadata": {},
   "outputs": [],
   "source": [
    "for char in string.ascii_lowercase + string.ascii_uppercase:\n",
    "    if char == 'A':\n",
    "        i -= 26\n",
    "    dict[char] = i\n",
    "    i += 1\n",
    "    \n",
    "dict['.'] = i\n",
    "dict[' '] = i+1"
   ]
  },
  {
   "cell_type": "code",
   "execution_count": 69,
   "id": "cee9cd18-a03b-49fc-b2f2-672191f1b485",
   "metadata": {},
   "outputs": [
    {
     "name": "stdout",
     "output_type": "stream",
     "text": [
      "{'a': 1, 'b': 2, 'c': 3, 'd': 4, 'e': 5, 'f': 6, 'g': 7, 'h': 8, 'i': 9, 'j': 10, 'k': 11, 'l': 12, 'm': 13, 'n': 14, 'o': 15, 'p': 16, 'q': 17, 'r': 18, 's': 19, 't': 20, 'u': 21, 'v': 22, 'w': 23, 'x': 24, 'y': 25, 'z': 26, 'A': 1, 'B': 2, 'C': 3, 'D': 4, 'E': 5, 'F': 6, 'G': 7, 'H': 8, 'I': 9, 'J': 10, 'K': 11, 'L': 12, 'M': 13, 'N': 14, 'O': 15, 'P': 16, 'Q': 17, 'R': 18, 'S': 19, 'T': 20, 'U': 21, 'V': 22, 'W': 23, 'X': 24, 'Y': 25, 'Z': 26, '.': 27, ' ': 28}\n"
     ]
    }
   ],
   "source": [
    "print(dict)"
   ]
  },
  {
   "cell_type": "code",
   "execution_count": null,
   "id": "aebcabb8-6978-4ec3-9da2-62dc8babd7b8",
   "metadata": {},
   "outputs": [],
   "source": []
  },
  {
   "cell_type": "code",
   "execution_count": 106,
   "id": "a87a1974-5093-4b7a-9314-36639d6ea873",
   "metadata": {},
   "outputs": [
    {
     "name": "stdin",
     "output_type": "stream",
     "text": [
      "Please enter the text you would like to convert to images:  mahmoud ahmed elsayed. MaHmOuD aHmEd\n"
     ]
    }
   ],
   "source": [
    "text = input(\"Please enter the text you would like to convert to images: \")\n",
    "dest_folder = 'userinput'\n",
    "shutil.rmtree(dest_folder)\n",
    "os.makedirs(dest_folder, exist_ok=True)\n",
    "i = 1\n",
    "for char in text:\n",
    "    try:\n",
    "        source = f'{dict[char]}.jpg'\n",
    "        renamed = f'userinput/{i}.jpg'\n",
    "        shutil.copy(source, renamed)\n",
    "        i+=1\n",
    "    except:\n",
    "        print(f\"{char} does not have a matching image, please try again.\")"
   ]
  }
 ],
 "metadata": {
  "kernelspec": {
   "display_name": "Python 3 (ipykernel)",
   "language": "python",
   "name": "python3"
  },
  "language_info": {
   "codemirror_mode": {
    "name": "ipython",
    "version": 3
   },
   "file_extension": ".py",
   "mimetype": "text/x-python",
   "name": "python",
   "nbconvert_exporter": "python",
   "pygments_lexer": "ipython3",
   "version": "3.11.7"
  }
 },
 "nbformat": 4,
 "nbformat_minor": 5
}
